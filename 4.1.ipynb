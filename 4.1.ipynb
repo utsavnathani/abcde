{
 "cells": [
  {
   "cell_type": "code",
   "execution_count": 2,
   "id": "168fe3e9",
   "metadata": {},
   "outputs": [
    {
     "name": "stdout",
     "output_type": "stream",
     "text": [
      "The Black Thar is being driven.\n",
      "Car: Thar, Color: Black, Number of doors: 4\n"
     ]
    }
   ],
   "source": [
    "# Superclass\n",
    "class Vehicle:\n",
    "    def __init__(self, brand, color):\n",
    "        self.brand = brand\n",
    "        self.color = color\n",
    "\n",
    "    def drive(self):\n",
    "        print(f\"The {self.color} {self.brand} is being driven.\")\n",
    "\n",
    "# Subclass\n",
    "class Car(Vehicle):\n",
    "    def __init__(self, brand, color, num_doors):\n",
    "        # Calling the constructor of the superclass\n",
    "        super().__init__(brand, color)\n",
    "        self.num_doors = num_doors\n",
    "\n",
    "    def display_info(self):\n",
    "        print(f\"Car: {self.brand}, Color: {self.color}, Number of doors: {self.num_doors}\")\n",
    "\n",
    "# Creating an instance of the Car class\n",
    "my_car = Car(\"Thar\", \"Black\", 4)\n",
    "\n",
    "# Demonstrate inherited methods\n",
    "my_car.drive()       # Calling the drive method inherited from the Vehicle class\n",
    "\n",
    "# Demonstrate subclass method\n",
    "my_car.display_info()  # Calling the display_info method specific to the Car class"
   ]
  },
  {
   "cell_type": "code",
   "execution_count": null,
   "id": "f6d1b39e",
   "metadata": {},
   "outputs": [],
   "source": []
  }
 ],
 "metadata": {
  "kernelspec": {
   "display_name": "Python 3 (ipykernel)",
   "language": "python",
   "name": "python3"
  },
  "language_info": {
   "codemirror_mode": {
    "name": "ipython",
    "version": 3
   },
   "file_extension": ".py",
   "mimetype": "text/x-python",
   "name": "python",
   "nbconvert_exporter": "python",
   "pygments_lexer": "ipython3",
   "version": "3.10.9"
  }
 },
 "nbformat": 4,
 "nbformat_minor": 5
}
